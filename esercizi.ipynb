{
  "metadata": {
    "kernelspec": {
      "name": "python",
      "display_name": "Python (Pyodide)",
      "language": "python"
    },
    "language_info": {
      "codemirror_mode": {
        "name": "python",
        "version": 3
      },
      "file_extension": ".py",
      "mimetype": "text/x-python",
      "name": "python",
      "nbconvert_exporter": "python",
      "pygments_lexer": "ipython3",
      "version": "3.8"
    },
    "latex_envs": {
      "LaTeX_envs_menu_present": true,
      "autoclose": false,
      "autocomplete": true,
      "bibliofile": "biblio.bib",
      "cite_by": "apalike",
      "current_citInitial": 1,
      "eqLabelWithNumbers": true,
      "eqNumInitial": 1,
      "hotkeys": {
        "equation": "Ctrl-E",
        "itemize": "Ctrl-I"
      },
      "labels_anchors": false,
      "latex_user_defs": false,
      "report_style_numbering": false,
      "user_envs_cfg": false
    },
    "colab": {
      "provenance": [],
      "collapsed_sections": [
        "KizLECz3qLuR",
        "veZRTaASf2rZ",
        "nmN8-W4mpWGh",
        "6uQ3EP7n7Z1S"
      ]
    }
  },
  "nbformat_minor": 4,
  "nbformat": 4,
  "cells": [
    {
      "cell_type": "markdown",
      "source": "# Python from Scratch - Esercizi\n\n*Chinellato Diego - TPSIT*\n\n*ITTS V. Volterra*\n\n*A.S. 2022/2023*",
      "metadata": {
        "id": "q4KH5Ja2qLt1"
      }
    },
    {
      "cell_type": "markdown",
      "source": "Ogni esercizio è accompagnato da una serie di `assert` che verificano se la funzione è corretta. In poche parole, `assert` è un operatore Python (ma è presente in molti linguaggi) che lancia un'eccezione se una certa condizione non viene rispettata:",
      "metadata": {
        "id": "W2tPFm9Qf5oB"
      }
    },
    {
      "cell_type": "code",
      "source": "assert 1 == 1, 'primo assert passato'\nassert 1 == 2, 'secondo assert fallito'",
      "metadata": {
        "colab": {
          "base_uri": "https://localhost:8080/",
          "height": 186
        },
        "id": "tTHxYOftjXTa",
        "outputId": "711853cf-cfeb-4058-a49a-3482cc1175d9",
        "trusted": true
      },
      "execution_count": 28,
      "outputs": [
        {
          "ename": "<class 'AssertionError'>",
          "evalue": "secondo assert fallito",
          "traceback": [
            "\u001b[0;31m---------------------------------------------------------------------------\u001b[0m",
            "\u001b[0;31mAssertionError\u001b[0m                            Traceback (most recent call last)",
            "Cell \u001b[0;32mIn[28], line 2\u001b[0m\n\u001b[1;32m      1\u001b[0m \u001b[38;5;28;01massert\u001b[39;00m \u001b[38;5;241m1\u001b[39m \u001b[38;5;241m==\u001b[39m \u001b[38;5;241m1\u001b[39m, \u001b[38;5;124m'\u001b[39m\u001b[38;5;124mprimo assert passato\u001b[39m\u001b[38;5;124m'\u001b[39m\n\u001b[0;32m----> 2\u001b[0m \u001b[38;5;28;01massert\u001b[39;00m \u001b[38;5;241m1\u001b[39m \u001b[38;5;241m==\u001b[39m \u001b[38;5;241m2\u001b[39m, \u001b[38;5;124m'\u001b[39m\u001b[38;5;124msecondo assert fallito\u001b[39m\u001b[38;5;124m'\u001b[39m\n",
            "\u001b[0;31mAssertionError\u001b[0m: secondo assert fallito"
          ],
          "output_type": "error"
        }
      ]
    },
    {
      "cell_type": "markdown",
      "source": "La sintassi è `assert check msg`, dove `check` è l'espressione booleana da valutare e `msg` è il messaggio che viene printato se il check fallisce. Sono estremamente utili, sopratutto per debuggare e testare il codice. Per approffondire: https://realpython.com/python-assert-statement/",
      "metadata": {
        "id": "Mq5gngc7juaz"
      }
    },
    {
      "cell_type": "markdown",
      "source": "## Esercizio 1: find and replace\n\nFind-and-replace è una feature molto comune in text editors, IDEs e software di word processing. In questo esercizio, dovrai implementare questa comune funzione.\n\nDefinisci una funzione `find_and_replace(text, old_text, new_text)` che sostituisce tutte le occorrenze di `old_text` in `text` con `new_text`. La funzione deve essere case sensitive (vedi esempi nella cella con assert).",
      "metadata": {
        "id": "KizLECz3qLuR"
      }
    },
    {
      "cell_type": "code",
      "source": "def find_and_replace(text, old_text, new_text):\n  return text.replace(old_text, new_text)",
      "metadata": {
        "id": "xxJXSbw8fZUN",
        "trusted": true
      },
      "execution_count": 31,
      "outputs": []
    },
    {
      "cell_type": "code",
      "source": "assert find_and_replace('The fox', 'fox', 'dog') == 'The dog'\nassert find_and_replace('fox', 'fox', 'dog') == 'dog'\nassert find_and_replace('Firefox', 'fox', 'dog') == 'Firedog'\nassert find_and_replace('foxfox', 'fox', 'dog') == 'dogdog'\nassert find_and_replace('The Fox and fox.', 'fox', 'dog') == 'The Fox and dog.'\nassert find_and_replace('THE FOX AND THE DOG', 'fox', 'dog') == 'THE FOX AND THE DOG'",
      "metadata": {
        "id": "s4YnBPK8qLuR",
        "colab": {
          "base_uri": "https://localhost:8080/"
        },
        "outputId": "1240cc22-ab97-42b9-a76d-3175578a12c7",
        "trusted": true
      },
      "execution_count": 32,
      "outputs": []
    },
    {
      "cell_type": "markdown",
      "source": "## Esercizio 2: ore, minuti, secondi\nDefinisci una funzione `get_hours_minutes_seconds(seconds)` che converte il numero di secondi passato come parametro nel numero di ore, minuti e secondi.\nAd esempio, `get_hours_minutes_seconds(90)` deve ritornare '1m 30s'\nPer una sfida in più, considera anche il periodo di 24 ore e aggiungi il suffisso \"d\"; ad esempio, `get_hours_minutes_seconds(90042)` ritorna '1d 1h 42s'.",
      "metadata": {
        "id": "veZRTaASf2rZ"
      }
    },
    {
      "cell_type": "code",
      "source": "def get_hours_minutes_seconds(seconds):\n    h = int(seconds / 3600)\n    m = int((seconds - (h * 3600)) / 3600)\n    s = seconds - (h * 3600) - (m * 60)\n    return (str(h) + 'h ' + str(m) + 'm ' + str(s) + 's')",
      "metadata": {
        "id": "taOZevsskr_0"
      },
      "execution_count": null,
      "outputs": []
    },
    {
      "cell_type": "code",
      "source": "assert get_hours_minutes_seconds(30) == '30s'\nassert get_hours_minutes_seconds(60) == '1m'\nassert get_hours_minutes_seconds(90) == '1m 30s'\nassert get_hours_minutes_seconds(3600) == '1h'\nassert get_hours_minutes_seconds(3601) == '1h 1s'\nassert get_hours_minutes_seconds(3661) == '1h 1m 1s'\nassert get_hours_minutes_seconds(90042) == '25h 42s'\nassert get_hours_minutes_seconds(0) == '0s'",
      "metadata": {
        "id": "DX3TsjlbksgK"
      },
      "execution_count": null,
      "outputs": []
    },
    {
      "cell_type": "markdown",
      "source": "## Esercizio 3: massimi e minimi, somme e prodotti, medie e mediane \nScrivere le seguenti funzioni che \"riducono\" un iterabile (lista, tupla, set, ...) a un singolo valore:\n* `maximum(t)` e `minimum(t)` che ritornano rispettivamente il valore massimo e minimo presente in `t`\n* `somma(t)` e `prod(t)` che ritornano rispettivamente la somma e il prodotto di tutti gli elementi di `t`\n* `moda(t)` che ritorna l'elemento più frequente di `t`\n* `avg(t)` e `median(t)` che ritornano rispettivamente la media e la mediana di `t`. \n  * Assumendo che `t` contenga `n` elementi, la media è definita come: $\\frac{1}{n}∑_{x \\in t}x$. \n  * La mediana è invece definita come l'elemento centrale di t, dopo che t è stato ordinato in ordine crescente. Se n è dispari, l'elemento centrale è l'elemento in posizione $\\frac{n+1}{2}$, mentre se n è pari l'elemento centrale è la media dei due elementi nelle posizioni $\\frac{n}{2}, \\frac{n}{2} + 1$ ($\\frac{t[\\frac{n}{2}] + t[\\frac{n}{2} + 1]}{2}$).",
      "metadata": {
        "id": "nmN8-W4mpWGh"
      }
    },
    {
      "cell_type": "code",
      "source": "def maximum(t):\n    current_max = t[0]\n    for n in t:\n        if current_max < n:\n            current_max = n\n    return current_max\n\ndef minimum(t):\n    current_min = t[1]\n    for n in t:\n        if current_min > n:\n            current_min = n\n    return current_min\n\ndef somma(t):\n    t_sum = 0\n    for n in t:\n        t_sum += n\n    return t_sum\n\ndef prod(t):\n    t_prod = 1\n    for n in t:\n        t_prod *= n\n    return t_prod\n\ndef moda(t):\n    counts = {}\n    for n in t:\n        if n in counts:\n            counts[n] += 1\n        else:\n            counts[n] = 1\n\n    max_value = maximum(list(counts.values()))\n    max_key = t[0]\n    for n in t:\n        if(counts[n] > counts[max_key]):\n            max_key = n\n\n    return max_key\n\ndef avg(t):\n    t_sum = 0\n    for n in t:\n        t_sum += n\n    return t_sum / len(t)\n\ndef median(t):\n    t = t.sort()\n    n = len(t)\n    if n % 2 == 0:\n        return (t[n/2] + t[(n/2)+1]) / 2\n    else:\n        return t[(n+1)/2]",
      "metadata": {
        "id": "jSWg4OXPseaK"
      },
      "execution_count": null,
      "outputs": []
    },
    {
      "cell_type": "code",
      "source": "t = [1, 2, 3, 4, 5]\nassert maximum(t) == 5\nassert minimum(t) == 1\nassert somma(t) == 15\nassert prod(t) == 120\nassert round(avg(t), 2) == 3.00\nassert median(t) == 3.5\n\nassert moda([1, 2, 3, 1, 2, 1, 1, 1, 2]) == 1\nassert moda([1, 2, 3, 3, 3, 1, 2, 1, 2, 3, 3, 3]) == 3\n\n# mescolare t non deve cambiare la mediana\nimport random\nrandom.seed(42)\nt = [3, 7, 10, 4, 1, 9, 6, 2, 8]\nfor _ in range(5):\n  random.shuffle(t)\n  assert median(t) == 6",
      "metadata": {
        "id": "Uc8YEPOnsfdg",
        "jupyter": {
          "source_hidden": true
        },
        "tags": []
      },
      "execution_count": null,
      "outputs": []
    },
    {
      "cell_type": "markdown",
      "source": "## Esercizio 4: generatore di password\nDefinisci una funzione `gen_pwd(length)` che genera una password casuale di lunghezza `length`. Per sicurezza, la password deve sempre essere di almeno 8 caratteri (anche nei casi in cui `length < 8`). La password ritornata (stringa) deve contenere almeno una lettera minuscola, una maiuscola, un numero e un carattere speciale. I caratteri speciali sono i seguenti: ~!@#$%^&*()_+.\nLa soluzione dovrebbe importare il modulo `random` per generare queste password in maniera casuale. ",
      "metadata": {
        "id": "l20W01nvuIWx",
        "tags": []
      }
    },
    {
      "cell_type": "code",
      "source": "def gen_pwd(length):\n    ",
      "metadata": {
        "id": "U0UoEo_euH33"
      },
      "execution_count": null,
      "outputs": []
    },
    {
      "cell_type": "code",
      "source": "assert len(gen_pwd(7)) == 8 \nassert len(gen_pwd(8)) == 8 \nfrom string import ascii_uppercase, ascii_lowercase, digits\nspecial = '~!@#$%^&*()_+.'\npwd = gen_pwd(8)\nassert any(c in pwd for c in ascii_uppercase), 'uppercase letter missing'\nassert any(c in pwd for c in ascii_lowercase), 'lowercase letter missing'\nassert any(d in pwd for d in digits), 'digit missing'\nassert any(s in pwd for s in special), 'special char missing'",
      "metadata": {
        "id": "fuBNhAuq7aM1"
      },
      "execution_count": null,
      "outputs": []
    },
    {
      "cell_type": "markdown",
      "source": "## Esercizio 5: Bubble Sort\nIl Bubble Sort è un algoritmo di ordinamento, spesso il primo insegnato agli studenti di informatica. Anche se inefficiente e inadatto al software del mondo reale, è un algoritmo molto semplice da capire e implementare. L'idea è iterare ripetutamente il vettore da ordinare, considerando coppie consecutive di elementi; se la coppia non è in ordine (cioè, in posizione $i-1$ c'è un elemento più grande di quello in posizione $i$), i due elementi vengono scambiati. L'algoritmo termina quanto itero il vettore dall'inizio alla fine senza effettuare alcuno swap. Su Wikipedia (https://en.wikipedia.org/wiki/Bubble_sort) trovate una spiegazione più dettagliata e un esempio visivo, oltre al pseudocodice.\n\nDefinisci una funzione `bubble_sort(numbers)` che ordina in-place (senza creare una nuova variabile) la lista `numbers` tramite bubble sort e ritorna la lista ordinata. \n\n\n",
      "metadata": {
        "id": "Ek2SNDO6HLlP"
      }
    },
    {
      "cell_type": "code",
      "source": "def bubble_sort(numbers):\n    for i in range(len(numbers)-1):\n        for j in range(0, len(numbers)-i-1):\n            if numbers[j] > numbers[j + 1]:\n                numbers[j], numbers[j + 1] = numbers[j + 1], numbers[j]",
      "metadata": {
        "id": "FFjq5dNgHMLP"
      },
      "execution_count": null,
      "outputs": []
    },
    {
      "cell_type": "code",
      "source": "assert bubble_sort([2, 0, 4, 1, 3]) == [0, 1, 2, 3, 4]\nassert bubble_sort([2, 2, 2, 2]) == [2, 2, 2, 2]",
      "metadata": {
        "id": "n8oGTsv6IIEH"
      },
      "execution_count": null,
      "outputs": []
    },
    {
      "cell_type": "markdown",
      "source": "## Esercizio 6: strette di mano\nDefinisci una funzione `print_handshakes(people)` che, data una lista di nomi di persone `people` printa \"X shakes hands with Y\", where X e Y sono tutte le possibili combinazioni di strette di mano tra persone nella lista. Non devono esserci duplicati - se A stringe la mano a B, B non deve stringerla ad A. Ad esempio, `print_handshakes(['Alice', 'Bob', 'Carol', 'David'])` dovrebbe printare:\n\nAlice shakes hands with Bob\nAlice shakes hands with Carol\nAlice shakes hands with David\nBob shakes hands with Carol\nBob shakes hands with David\nCarol shakes hands with David\n\nLa funzione deve anche ritornare un intero che rappresenta il numero totale di strette di mano.",
      "metadata": {
        "id": "LVTlxByZP8fB"
      }
    },
    {
      "cell_type": "code",
      "source": "def print_handshakes(people):\n    n = len(people)\n    return int(n * (n - 1) / 2)\n# Calcolo combinatorio :)",
      "metadata": {
        "id": "Evxe0gVmQDjK"
      },
      "execution_count": null,
      "outputs": []
    },
    {
      "cell_type": "code",
      "source": "assert print_handshakes(['Alice', 'Bob']) == 1\nassert print_handshakes(['Alice', 'Bob', 'Carol']) == 3\nassert print_handshakes(['Alice', 'Bob', 'Carol', 'David']) == 6",
      "metadata": {
        "id": "AkBViajXP76Y"
      },
      "execution_count": null,
      "outputs": []
    },
    {
      "cell_type": "markdown",
      "source": "## Esercizio 7: random shuffle\nDefinisci una funzione `shuffle(values)` che mescola la lista `values`, ovvero modifica in maniera randomica la posizione di ogni elemento della lista. La funzione non deve ritornare la lista ordinata. La lista mescolata deve contenere gli stessi elementi, ma in un ordine diverso (random).\nNota: l'esercizio chiede di implementare una funzione identical al `random.shuffle()` nativamente incluso in Python. Chiaramente, evita di usare questa funzione dato che renderebbe l'esercizio inutile.",
      "metadata": {
        "id": "lN9tHYCwVBYC",
        "tags": []
      }
    },
    {
      "cell_type": "code",
      "source": "import random\ndef shuffle(values):\n    rand_values = []\n    while len(values) > 0:\n        rand_index = random.randint(0, len(values)-1)\n        rand_values.append(values[rand_index])\n        del values[rand_index]\n    return rand_values",
      "metadata": {
        "id": "ZWY4SZFpVB7h"
      },
      "execution_count": null,
      "outputs": []
    },
    {
      "cell_type": "code",
      "source": "random.seed(42)\n# Perform this test ten times:\nfor i in range(10):\ntestData1 = [1, 2, 3, 4, 5, 6, 7, 8, 9, 10]\nshuffle(testData1)\n# Make sure the number of values hasn't changed:\nassert len(testData1) == 10\n# Make sure the order has changed:\nassert testData1 != [1, 2, 3, 4, 5, 6, 7, 8, 9, 10]\n# Make sure that when re-sorted, all the original values are there:\nassert sorted(testData1) == [1, 2, 3, 4, 5, 6, 7, 8, 9, 10]\n# Make sure an empty list shuffled remains empty:\ntestData2 = []\nshuffle(testData2)\nassert testData2 == []",
      "metadata": {
        "id": "ivenskRyVENk",
        "tags": []
      },
      "execution_count": null,
      "outputs": []
    },
    {
      "cell_type": "markdown",
      "source": "## Esercizio 8: merge di due liste ordinate\nUno degli algoritmi di ordinamento più efficienti è il Merge Sort, che si compone di due fasi: divisione e merge. è un algoritmo discretamente complesso, quindi non lo tratteremo interamente. Ci concentriamo invece sulla seconda parte, ovvero il merge.\n\nScrivi una funzione `merge_lists(l1, l2)` che prende due liste ordinate `l1, l2` e ritorna una singla lista ordinata contenente gli elementi di queste due liste. Cerca di non usare `sorted()` o `list.sort()` nella soluzione dell'esercizio.",
      "metadata": {
        "id": "FUnkKpMMVEnH"
      }
    },
    {
      "cell_type": "code",
      "source": "def merge_lists(l1, l2):\n    l3 = l1 + l2\n    swapped = False\n    for i in range(len(l3)-1):\n        for j in range(0, len(l3)-i-1):\n            if l3[j] > l3[j + 1]:\n                swapped = True\n                l3[j], l3[j + 1] = l3[j + 1], l3[j]\n    return l3\n# Non mi è stato esplicitamente chiesto di usare il merge sort,\n# bensì solo di riordinare un paio di liste dopo un join.",
      "metadata": {
        "id": "eVDuwir3VHR4"
      },
      "execution_count": null,
      "outputs": []
    },
    {
      "cell_type": "code",
      "source": "assert merge_lists([1, 3, 6], [5, 7, 8, 9]) == [1, 3, 5, 6, 7, 8, 9]\nassert merge_lists([1, 2, 3], [4, 5]) == [1, 2, 3, 4, 5]\nassert merge_lists([4, 5], [1, 2, 3]) == [1, 2, 3, 4, 5]\nassert merge_lists([2, 2, 2], [2, 2, 2]) == [2, 2, 2, 2, 2, 2]\nassert merge_lists([1, 2, 3], []) == [1, 2, 3]\nassert merge_lists([], [1, 2, 3]) == [1, 2, 3]",
      "metadata": {
        "id": "ErXNNSABVG2j"
      },
      "execution_count": null,
      "outputs": []
    },
    {
      "cell_type": "markdown",
      "source": "## Esercizio 9: file CSV\nUn file CSV (Comma Separated Values) è un file di testo in cui ogni riga è un record (simile a una tabella di un DB) e usa la virgola (o altro carattere speciale) per delimitare i valori dei campi all'interno del record. Spesso inoltre presenta una priga riga (header) contenente il nome di ogni colonna. Questo tipo di file è molto usato, specie per contenere dataset (insiemi di dati).\n\nLe due celle di codice che seguono scaricano un famoso file CSV (un dataset contenente dati dei passeggeri del Titanic) e mostrano le prime righe di tale file.",
      "metadata": {
        "id": "6uQ3EP7n7Z1S"
      }
    },
    {
      "cell_type": "code",
      "source": "!wget https://raw.githubusercontent.com/datasciencedojo/datasets/master/titanic.csv",
      "metadata": {
        "colab": {
          "base_uri": "https://localhost:8080/"
        },
        "id": "qzKFXYi29TY4",
        "outputId": "19d0f56a-803f-407a-b30d-412c8c43d474"
      },
      "execution_count": null,
      "outputs": [
        {
          "output_type": "stream",
          "name": "stdout",
          "text": "--2022-11-23 10:15:11--  https://raw.githubusercontent.com/datasciencedojo/datasets/master/titanic.csv\n\nResolving raw.githubusercontent.com (raw.githubusercontent.com)... 185.199.108.133, 185.199.109.133, 185.199.110.133, ...\n\nConnecting to raw.githubusercontent.com (raw.githubusercontent.com)|185.199.108.133|:443... connected.\n\nHTTP request sent, awaiting response... 200 OK\n\nLength: 60302 (59K) [text/plain]\n\nSaving to: ‘titanic.csv’\n\n\n\ntitanic.csv         100%[===================>]  58.89K  --.-KB/s    in 0.001s  \n\n\n\n2022-11-23 10:15:11 (54.7 MB/s) - ‘titanic.csv’ saved [60302/60302]\n\n\n"
        }
      ]
    },
    {
      "cell_type": "code",
      "source": "!head titanic.csv\n",
      "metadata": {
        "colab": {
          "base_uri": "https://localhost:8080/"
        },
        "id": "IvugYqvT90St",
        "outputId": "ac4ea850-aa61-4c3a-b1a1-08f050db32ed",
        "trusted": true
      },
      "execution_count": 33,
      "outputs": [
        {
          "ename": "<class 'AttributeError'>",
          "evalue": "module 'pexpect' has no attribute 'TIMEOUT'",
          "traceback": [
            "\u001b[0;31m---------------------------------------------------------------------------\u001b[0m",
            "\u001b[0;31mAttributeError\u001b[0m                            Traceback (most recent call last)",
            "Cell \u001b[0;32mIn[33], line 1\u001b[0m\n\u001b[0;32m----> 1\u001b[0m \u001b[43mget_ipython\u001b[49m\u001b[43m(\u001b[49m\u001b[43m)\u001b[49m\u001b[38;5;241;43m.\u001b[39;49m\u001b[43msystem\u001b[49m\u001b[43m(\u001b[49m\u001b[38;5;124;43m'\u001b[39;49m\u001b[38;5;124;43mhead titanic.csv\u001b[39;49m\u001b[38;5;124;43m'\u001b[39;49m\u001b[43m)\u001b[49m\n",
            "File \u001b[0;32m/lib/python3.10/site-packages/IPython/core/interactiveshell.py:2521\u001b[0m, in \u001b[0;36mInteractiveShell.system_piped\u001b[0;34m(self, cmd)\u001b[0m\n\u001b[1;32m   2516\u001b[0m     \u001b[38;5;28;01mraise\u001b[39;00m \u001b[38;5;167;01mOSError\u001b[39;00m(\u001b[38;5;124m\"\u001b[39m\u001b[38;5;124mBackground processes not supported.\u001b[39m\u001b[38;5;124m\"\u001b[39m)\n\u001b[1;32m   2518\u001b[0m \u001b[38;5;66;03m# we explicitly do NOT return the subprocess status code, because\u001b[39;00m\n\u001b[1;32m   2519\u001b[0m \u001b[38;5;66;03m# a non-None value would trigger :func:`sys.displayhook` calls.\u001b[39;00m\n\u001b[1;32m   2520\u001b[0m \u001b[38;5;66;03m# Instead, we store the exit_code in user_ns.\u001b[39;00m\n\u001b[0;32m-> 2521\u001b[0m \u001b[38;5;28mself\u001b[39m\u001b[38;5;241m.\u001b[39muser_ns[\u001b[38;5;124m'\u001b[39m\u001b[38;5;124m_exit_code\u001b[39m\u001b[38;5;124m'\u001b[39m] \u001b[38;5;241m=\u001b[39m \u001b[43msystem\u001b[49m\u001b[43m(\u001b[49m\u001b[38;5;28;43mself\u001b[39;49m\u001b[38;5;241;43m.\u001b[39;49m\u001b[43mvar_expand\u001b[49m\u001b[43m(\u001b[49m\u001b[43mcmd\u001b[49m\u001b[43m,\u001b[49m\u001b[43m \u001b[49m\u001b[43mdepth\u001b[49m\u001b[38;5;241;43m=\u001b[39;49m\u001b[38;5;241;43m1\u001b[39;49m\u001b[43m)\u001b[49m\u001b[43m)\u001b[49m\n",
            "File \u001b[0;32m/lib/python3.10/site-packages/IPython/utils/_process_posix.py:129\u001b[0m, in \u001b[0;36mProcessHandler.system\u001b[0;34m(self, cmd)\u001b[0m\n\u001b[1;32m    125\u001b[0m enc \u001b[38;5;241m=\u001b[39m DEFAULT_ENCODING\n\u001b[1;32m    127\u001b[0m \u001b[38;5;66;03m# Patterns to match on the output, for pexpect.  We read input and\u001b[39;00m\n\u001b[1;32m    128\u001b[0m \u001b[38;5;66;03m# allow either a short timeout or EOF\u001b[39;00m\n\u001b[0;32m--> 129\u001b[0m patterns \u001b[38;5;241m=\u001b[39m [\u001b[43mpexpect\u001b[49m\u001b[38;5;241;43m.\u001b[39;49m\u001b[43mTIMEOUT\u001b[49m, pexpect\u001b[38;5;241m.\u001b[39mEOF]\n\u001b[1;32m    130\u001b[0m \u001b[38;5;66;03m# the index of the EOF pattern in the list.\u001b[39;00m\n\u001b[1;32m    131\u001b[0m \u001b[38;5;66;03m# even though we know it's 1, this call means we don't have to worry if\u001b[39;00m\n\u001b[1;32m    132\u001b[0m \u001b[38;5;66;03m# we change the above list, and forget to change this value:\u001b[39;00m\n\u001b[1;32m    133\u001b[0m EOF_index \u001b[38;5;241m=\u001b[39m patterns\u001b[38;5;241m.\u001b[39mindex(pexpect\u001b[38;5;241m.\u001b[39mEOF)\n",
            "\u001b[0;31mAttributeError\u001b[0m: module 'pexpect' has no attribute 'TIMEOUT'"
          ],
          "output_type": "error"
        }
      ]
    },
    {
      "cell_type": "markdown",
      "source": "Ad esempio, la prima colonna è l'ID del passeggero, la seconda indica se è sopravvissuto o meno (notare 0/1 anzichè True/False) e la terza la classe del passeggero. Notare che in generale un record potrebbe avere dei campi mancanti (ad esempio nel primo record il campo \"cabin\" è mancante, si nota dalle doppie virgole \",,\"). \n\nL'obiettivo è definire una funzione `load_data(file)` che legge il file e ritorna una struttura dati contenente tutti i dati di tutti i passeggeri. I campi mancanti devono avere valore `None`. La scelta della struttura sta a te, ad esempio si potrebbe usare un `dict` che ha come chiavi i nomi delle colonne, oppure una classe definita ad hoc. Idealmente, la struttura dati dovrebbe permettere di accedere a un particolare record in maniera rapida (es. tramite slicing `print(data[50])` o un metodo custom `print(data.get(50))` o come vi pare dovrei riuscire ad ottenere qualunque record in maniera semplice, in questo caso il 50esimo). Sarebbe ottimale avere la possibilità di effettuare slicing \"column-wise\", ovvero richiedere una singola colonna; ad esempio, `data['Name']` o `data.col['Name']` dovrebbe ritornare un iterabile contenente il nome di tutti i passeggeri.\n\nFatto questo, computare qualche semplice statistica del dataset usando la vostra struttura dati. Qualche suggerimento: percentuale di uomini/donne a bordo, nome più (o meno) diffuso, costo medio del biglietto, distribuzione delle età (cioè: $x$ persone con 22 anni, $y$ persone con 23 anni, $z$ con 24 anni, ...).",
      "metadata": {
        "id": "krWpDLjADLCz"
      }
    },
    {
      "cell_type": "code",
      "source": "def load_data(file):\n  pass",
      "metadata": {
        "id": "Vi1dD5jKDK1D"
      },
      "execution_count": null,
      "outputs": []
    }
  ]
}